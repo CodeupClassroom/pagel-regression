{
 "cells": [
  {
   "cell_type": "markdown",
   "id": "a009429e",
   "metadata": {},
   "source": [
    "# Acquire and Prepare - Wrangle"
   ]
  },
  {
   "cell_type": "markdown",
   "id": "1464288b",
   "metadata": {},
   "source": [
    "What is it?\n",
    "- this is the step where we acquire and prepare our data in the data science pipeline\n",
    "- combining these two steps together are oftening referred to as wrangling\n",
    "\n",
    "Why do we care?\n",
    "- this sets us for success in exploration and modeling! \n",
    "\n",
    "How is regression wrangle different than classification wrangle?\n"
   ]
  },
  {
   "cell_type": "markdown",
   "id": "6874b6b1",
   "metadata": {},
   "source": [
    "# This Example Pipeline Scenario"
   ]
  },
  {
   "cell_type": "markdown",
   "id": "60f28421",
   "metadata": {},
   "source": [
    "Scenario: I'm a university teacher, and I want to know when to worry about a student's progress. I want to be able to work with any students who are at high risk of failing the class, so that I can try to prevent that from happening. I have the grades of the three exams and the final grade from last semester's class. I'm hoping I can build a prediction model that will be able to use these exams to predict the final grade within 5 points average per student.\n",
    "\n",
    "Goal: we are trying to predict a students final grade based on previous exam scores"
   ]
  },
  {
   "cell_type": "code",
   "execution_count": 1,
   "id": "9b3778c3",
   "metadata": {},
   "outputs": [],
   "source": [
    "import pandas as pd\n",
    "import numpy as np\n",
    "\n",
    "import matplotlib.pyplot as plt\n",
    "import seaborn as sns"
   ]
  },
  {
   "cell_type": "markdown",
   "id": "e3c295b4",
   "metadata": {},
   "source": [
    "## Acquire"
   ]
  },
  {
   "cell_type": "markdown",
   "id": "cab8a5e7",
   "metadata": {},
   "source": [
    "Goals:\n",
    "?"
   ]
  },
  {
   "cell_type": "code",
   "execution_count": 2,
   "id": "2d706ffc",
   "metadata": {},
   "outputs": [],
   "source": [
    "# Read csv file into pandas DataFrame.\n",
    "file = \"https://gist.githubusercontent.com/ryanorsinger/\\\n",
    "14c8f919920e111f53c6d2c3a3af7e70/raw/07f6e8004fa171638d6d599cfbf0513f6f60b9e8/student_grades.csv\""
   ]
  },
  {
   "cell_type": "code",
   "execution_count": 3,
   "id": "a81b5eb6",
   "metadata": {},
   "outputs": [],
   "source": [
    "df = pd.read_csv(file)"
   ]
  },
  {
   "cell_type": "code",
   "execution_count": null,
   "id": "264916b3",
   "metadata": {},
   "outputs": [],
   "source": []
  },
  {
   "cell_type": "code",
   "execution_count": null,
   "id": "ad7757e3",
   "metadata": {},
   "outputs": [],
   "source": []
  },
  {
   "cell_type": "markdown",
   "id": "eb0155a4",
   "metadata": {},
   "source": [
    "Takeaways:\n",
    "?"
   ]
  },
  {
   "cell_type": "markdown",
   "id": "fb663e63",
   "metadata": {},
   "source": [
    "## Prepare"
   ]
  },
  {
   "cell_type": "markdown",
   "id": "d9b5e151",
   "metadata": {},
   "source": [
    "Goals: ?"
   ]
  },
  {
   "cell_type": "code",
   "execution_count": null,
   "id": "613d6778",
   "metadata": {},
   "outputs": [],
   "source": []
  },
  {
   "cell_type": "code",
   "execution_count": null,
   "id": "810b6c2c",
   "metadata": {},
   "outputs": [],
   "source": []
  },
  {
   "cell_type": "markdown",
   "id": "285d0c78",
   "metadata": {},
   "source": [
    "Takeaways: ?"
   ]
  },
  {
   "cell_type": "markdown",
   "id": "9f8baaa1",
   "metadata": {},
   "source": [
    "## Finish wrangle by making a function! "
   ]
  },
  {
   "cell_type": "code",
   "execution_count": 5,
   "id": "a38e7ff7",
   "metadata": {},
   "outputs": [],
   "source": [
    "def wrangle_exams():\n",
    "    '''\n",
    "    read csv from url into df, clean df, and return the prepared df\n",
    "    '''\n",
    "    # Read csv file into pandas DataFrame.\n",
    "    file = \"https://gist.githubusercontent.com/ryanorsinger/\\\n",
    "14c8f919920e111f53c6d2c3a3af7e70/raw/07f6e8004fa171638d6d599cfbf0513f6f60b9e8/student_grades.csv\"\n",
    "    df = pd.read_csv(file)\n",
    "\n",
    "    #replace blank space with null value\n",
    "    df.exam3 = df.exam3.replace(' ', np.nan)\n",
    "    \n",
    "    #drop all nulls\n",
    "    df = df.dropna()\n",
    "    \n",
    "    #change datatype to exam1 and exam3 to integers\n",
    "    df.exam1 = df.exam1.astype(int)    \n",
    "    df.exam3 = df.exam3.astype(int)\n",
    "\n",
    "    return df"
   ]
  },
  {
   "cell_type": "code",
   "execution_count": 6,
   "id": "9f8a6ab1",
   "metadata": {},
   "outputs": [],
   "source": [
    "#test it works\n"
   ]
  },
  {
   "cell_type": "code",
   "execution_count": null,
   "id": "01f1a836",
   "metadata": {},
   "outputs": [],
   "source": []
  }
 ],
 "metadata": {
  "kernelspec": {
   "display_name": "Python 3 (ipykernel)",
   "language": "python",
   "name": "python3"
  },
  "language_info": {
   "codemirror_mode": {
    "name": "ipython",
    "version": 3
   },
   "file_extension": ".py",
   "mimetype": "text/x-python",
   "name": "python",
   "nbconvert_exporter": "python",
   "pygments_lexer": "ipython3",
   "version": "3.9.12"
  }
 },
 "nbformat": 4,
 "nbformat_minor": 5
}
