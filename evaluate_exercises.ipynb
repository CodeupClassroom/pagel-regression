{
 "cells": [
  {
   "cell_type": "code",
   "execution_count": 1,
   "id": "c01f4f55",
   "metadata": {},
   "outputs": [],
   "source": [
    "import pandas as pd\n",
    "import numpy as np\n",
    "\n",
    "import matplotlib.pyplot as plt\n",
    "import seaborn as sns\n",
    "\n",
    "import wrangle"
   ]
  },
  {
   "cell_type": "markdown",
   "id": "ddfa3617",
   "metadata": {},
   "source": [
    "#### Load your zillow dataset."
   ]
  },
  {
   "cell_type": "code",
   "execution_count": 3,
   "id": "850ea0ed",
   "metadata": {},
   "outputs": [
    {
     "name": "stdout",
     "output_type": "stream",
     "text": [
      "csv file found and loaded\n",
      "\n"
     ]
    }
   ],
   "source": [
    "df = wrangle.get_zillow_data()"
   ]
  },
  {
   "cell_type": "code",
   "execution_count": 4,
   "id": "e8631ea3",
   "metadata": {},
   "outputs": [
    {
     "data": {
      "text/html": [
       "<div>\n",
       "<style scoped>\n",
       "    .dataframe tbody tr th:only-of-type {\n",
       "        vertical-align: middle;\n",
       "    }\n",
       "\n",
       "    .dataframe tbody tr th {\n",
       "        vertical-align: top;\n",
       "    }\n",
       "\n",
       "    .dataframe thead th {\n",
       "        text-align: right;\n",
       "    }\n",
       "</style>\n",
       "<table border=\"1\" class=\"dataframe\">\n",
       "  <thead>\n",
       "    <tr style=\"text-align: right;\">\n",
       "      <th></th>\n",
       "      <th>bedroomcnt</th>\n",
       "      <th>bathroomcnt</th>\n",
       "      <th>calculatedfinishedsquarefeet</th>\n",
       "      <th>taxvaluedollarcnt</th>\n",
       "      <th>yearbuilt</th>\n",
       "      <th>taxamount</th>\n",
       "      <th>fips</th>\n",
       "    </tr>\n",
       "  </thead>\n",
       "  <tbody>\n",
       "    <tr>\n",
       "      <th>0</th>\n",
       "      <td>0.0</td>\n",
       "      <td>0.0</td>\n",
       "      <td>NaN</td>\n",
       "      <td>27516.0</td>\n",
       "      <td>NaN</td>\n",
       "      <td>NaN</td>\n",
       "      <td>6037.0</td>\n",
       "    </tr>\n",
       "    <tr>\n",
       "      <th>1</th>\n",
       "      <td>0.0</td>\n",
       "      <td>0.0</td>\n",
       "      <td>NaN</td>\n",
       "      <td>10.0</td>\n",
       "      <td>NaN</td>\n",
       "      <td>NaN</td>\n",
       "      <td>6037.0</td>\n",
       "    </tr>\n",
       "    <tr>\n",
       "      <th>2</th>\n",
       "      <td>0.0</td>\n",
       "      <td>0.0</td>\n",
       "      <td>NaN</td>\n",
       "      <td>10.0</td>\n",
       "      <td>NaN</td>\n",
       "      <td>NaN</td>\n",
       "      <td>6037.0</td>\n",
       "    </tr>\n",
       "    <tr>\n",
       "      <th>3</th>\n",
       "      <td>0.0</td>\n",
       "      <td>0.0</td>\n",
       "      <td>NaN</td>\n",
       "      <td>2108.0</td>\n",
       "      <td>NaN</td>\n",
       "      <td>174.21</td>\n",
       "      <td>6037.0</td>\n",
       "    </tr>\n",
       "    <tr>\n",
       "      <th>4</th>\n",
       "      <td>4.0</td>\n",
       "      <td>2.0</td>\n",
       "      <td>3633.0</td>\n",
       "      <td>296425.0</td>\n",
       "      <td>2005.0</td>\n",
       "      <td>6941.39</td>\n",
       "      <td>6037.0</td>\n",
       "    </tr>\n",
       "  </tbody>\n",
       "</table>\n",
       "</div>"
      ],
      "text/plain": [
       "   bedroomcnt  bathroomcnt  calculatedfinishedsquarefeet  taxvaluedollarcnt  \\\n",
       "0         0.0          0.0                           NaN            27516.0   \n",
       "1         0.0          0.0                           NaN               10.0   \n",
       "2         0.0          0.0                           NaN               10.0   \n",
       "3         0.0          0.0                           NaN             2108.0   \n",
       "4         4.0          2.0                        3633.0           296425.0   \n",
       "\n",
       "   yearbuilt  taxamount    fips  \n",
       "0        NaN        NaN  6037.0  \n",
       "1        NaN        NaN  6037.0  \n",
       "2        NaN        NaN  6037.0  \n",
       "3        NaN     174.21  6037.0  \n",
       "4     2005.0    6941.39  6037.0  "
      ]
     },
     "execution_count": 4,
     "metadata": {},
     "output_type": "execute_result"
    }
   ],
   "source": [
    "df.head()"
   ]
  },
  {
   "cell_type": "code",
   "execution_count": 6,
   "id": "172170a0",
   "metadata": {},
   "outputs": [],
   "source": [
    "train, validate, test = wrangle.prep_zillow(df)"
   ]
  },
  {
   "cell_type": "code",
   "execution_count": 7,
   "id": "417698ca",
   "metadata": {},
   "outputs": [
    {
     "data": {
      "text/html": [
       "<div>\n",
       "<style scoped>\n",
       "    .dataframe tbody tr th:only-of-type {\n",
       "        vertical-align: middle;\n",
       "    }\n",
       "\n",
       "    .dataframe tbody tr th {\n",
       "        vertical-align: top;\n",
       "    }\n",
       "\n",
       "    .dataframe thead th {\n",
       "        text-align: right;\n",
       "    }\n",
       "</style>\n",
       "<table border=\"1\" class=\"dataframe\">\n",
       "  <thead>\n",
       "    <tr style=\"text-align: right;\">\n",
       "      <th></th>\n",
       "      <th>bedrooms</th>\n",
       "      <th>bathrooms</th>\n",
       "      <th>area</th>\n",
       "      <th>propertyvalue</th>\n",
       "      <th>yearbuilt</th>\n",
       "      <th>taxamount</th>\n",
       "      <th>county</th>\n",
       "      <th>Orange</th>\n",
       "      <th>Ventura</th>\n",
       "    </tr>\n",
       "  </thead>\n",
       "  <tbody>\n",
       "    <tr>\n",
       "      <th>1571799</th>\n",
       "      <td>4</td>\n",
       "      <td>2.5</td>\n",
       "      <td>2987</td>\n",
       "      <td>885000</td>\n",
       "      <td>2006.0</td>\n",
       "      <td>13617.38</td>\n",
       "      <td>Orange</td>\n",
       "      <td>1</td>\n",
       "      <td>0</td>\n",
       "    </tr>\n",
       "    <tr>\n",
       "      <th>1723554</th>\n",
       "      <td>3</td>\n",
       "      <td>2.0</td>\n",
       "      <td>3013</td>\n",
       "      <td>489511</td>\n",
       "      <td>1977.0</td>\n",
       "      <td>5768.57</td>\n",
       "      <td>LA</td>\n",
       "      <td>0</td>\n",
       "      <td>0</td>\n",
       "    </tr>\n",
       "    <tr>\n",
       "      <th>718174</th>\n",
       "      <td>4</td>\n",
       "      <td>3.0</td>\n",
       "      <td>2572</td>\n",
       "      <td>390915</td>\n",
       "      <td>1986.0</td>\n",
       "      <td>4944.11</td>\n",
       "      <td>LA</td>\n",
       "      <td>0</td>\n",
       "      <td>0</td>\n",
       "    </tr>\n",
       "    <tr>\n",
       "      <th>1663206</th>\n",
       "      <td>3</td>\n",
       "      <td>1.0</td>\n",
       "      <td>1589</td>\n",
       "      <td>321758</td>\n",
       "      <td>1959.0</td>\n",
       "      <td>4031.78</td>\n",
       "      <td>LA</td>\n",
       "      <td>0</td>\n",
       "      <td>0</td>\n",
       "    </tr>\n",
       "    <tr>\n",
       "      <th>1087892</th>\n",
       "      <td>3</td>\n",
       "      <td>2.0</td>\n",
       "      <td>1727</td>\n",
       "      <td>231737</td>\n",
       "      <td>1962.0</td>\n",
       "      <td>2708.80</td>\n",
       "      <td>Ventura</td>\n",
       "      <td>0</td>\n",
       "      <td>1</td>\n",
       "    </tr>\n",
       "  </tbody>\n",
       "</table>\n",
       "</div>"
      ],
      "text/plain": [
       "         bedrooms  bathrooms  area  propertyvalue  yearbuilt  taxamount  \\\n",
       "1571799         4        2.5  2987         885000     2006.0   13617.38   \n",
       "1723554         3        2.0  3013         489511     1977.0    5768.57   \n",
       "718174          4        3.0  2572         390915     1986.0    4944.11   \n",
       "1663206         3        1.0  1589         321758     1959.0    4031.78   \n",
       "1087892         3        2.0  1727         231737     1962.0    2708.80   \n",
       "\n",
       "          county  Orange  Ventura  \n",
       "1571799   Orange       1        0  \n",
       "1723554       LA       0        0  \n",
       "718174        LA       0        0  \n",
       "1663206       LA       0        0  \n",
       "1087892  Ventura       0        1  "
      ]
     },
     "execution_count": 7,
     "metadata": {},
     "output_type": "execute_result"
    }
   ],
   "source": [
    "train.head()"
   ]
  },
  {
   "cell_type": "markdown",
   "id": "2c9c9f50",
   "metadata": {},
   "source": [
    "#### Fit a linear regression model (ordinary least squares) and compute yhat, predictions of taxvaluedollarcnt using only calculatedfinishedsqft."
   ]
  },
  {
   "cell_type": "markdown",
   "id": "88ccee33",
   "metadata": {},
   "source": [
    "#### Here is some sample code to get you started:"
   ]
  },
  {
   "cell_type": "markdown",
   "id": "2e30a3e0",
   "metadata": {},
   "source": [
    "    from sklearn.linear_model import LinearRegression\n",
    "    \n",
    "    # assuming X and y are already defined\n",
    "    model = LinearRegression().fit(X, y)\n",
    "    predictions = model.predict(X)"
   ]
  },
  {
   "cell_type": "markdown",
   "id": "099475b6",
   "metadata": {},
   "source": [
    "#### Modify and add to the code above as necessary for it to work with the zillow dataset."
   ]
  },
  {
   "cell_type": "code",
   "execution_count": 9,
   "id": "0282e0c1",
   "metadata": {},
   "outputs": [
    {
     "data": {
      "text/html": [
       "<div>\n",
       "<style scoped>\n",
       "    .dataframe tbody tr th:only-of-type {\n",
       "        vertical-align: middle;\n",
       "    }\n",
       "\n",
       "    .dataframe tbody tr th {\n",
       "        vertical-align: top;\n",
       "    }\n",
       "\n",
       "    .dataframe thead th {\n",
       "        text-align: right;\n",
       "    }\n",
       "</style>\n",
       "<table border=\"1\" class=\"dataframe\">\n",
       "  <thead>\n",
       "    <tr style=\"text-align: right;\">\n",
       "      <th></th>\n",
       "      <th>bedrooms</th>\n",
       "      <th>bathrooms</th>\n",
       "      <th>area</th>\n",
       "      <th>propertyvalue</th>\n",
       "      <th>yearbuilt</th>\n",
       "      <th>taxamount</th>\n",
       "      <th>county</th>\n",
       "      <th>Orange</th>\n",
       "      <th>Ventura</th>\n",
       "    </tr>\n",
       "  </thead>\n",
       "  <tbody>\n",
       "    <tr>\n",
       "      <th>1571799</th>\n",
       "      <td>4</td>\n",
       "      <td>2.5</td>\n",
       "      <td>2987</td>\n",
       "      <td>885000</td>\n",
       "      <td>2006.0</td>\n",
       "      <td>13617.38</td>\n",
       "      <td>Orange</td>\n",
       "      <td>1</td>\n",
       "      <td>0</td>\n",
       "    </tr>\n",
       "    <tr>\n",
       "      <th>1723554</th>\n",
       "      <td>3</td>\n",
       "      <td>2.0</td>\n",
       "      <td>3013</td>\n",
       "      <td>489511</td>\n",
       "      <td>1977.0</td>\n",
       "      <td>5768.57</td>\n",
       "      <td>LA</td>\n",
       "      <td>0</td>\n",
       "      <td>0</td>\n",
       "    </tr>\n",
       "    <tr>\n",
       "      <th>718174</th>\n",
       "      <td>4</td>\n",
       "      <td>3.0</td>\n",
       "      <td>2572</td>\n",
       "      <td>390915</td>\n",
       "      <td>1986.0</td>\n",
       "      <td>4944.11</td>\n",
       "      <td>LA</td>\n",
       "      <td>0</td>\n",
       "      <td>0</td>\n",
       "    </tr>\n",
       "    <tr>\n",
       "      <th>1663206</th>\n",
       "      <td>3</td>\n",
       "      <td>1.0</td>\n",
       "      <td>1589</td>\n",
       "      <td>321758</td>\n",
       "      <td>1959.0</td>\n",
       "      <td>4031.78</td>\n",
       "      <td>LA</td>\n",
       "      <td>0</td>\n",
       "      <td>0</td>\n",
       "    </tr>\n",
       "    <tr>\n",
       "      <th>1087892</th>\n",
       "      <td>3</td>\n",
       "      <td>2.0</td>\n",
       "      <td>1727</td>\n",
       "      <td>231737</td>\n",
       "      <td>1962.0</td>\n",
       "      <td>2708.80</td>\n",
       "      <td>Ventura</td>\n",
       "      <td>0</td>\n",
       "      <td>1</td>\n",
       "    </tr>\n",
       "  </tbody>\n",
       "</table>\n",
       "</div>"
      ],
      "text/plain": [
       "         bedrooms  bathrooms  area  propertyvalue  yearbuilt  taxamount  \\\n",
       "1571799         4        2.5  2987         885000     2006.0   13617.38   \n",
       "1723554         3        2.0  3013         489511     1977.0    5768.57   \n",
       "718174          4        3.0  2572         390915     1986.0    4944.11   \n",
       "1663206         3        1.0  1589         321758     1959.0    4031.78   \n",
       "1087892         3        2.0  1727         231737     1962.0    2708.80   \n",
       "\n",
       "          county  Orange  Ventura  \n",
       "1571799   Orange       1        0  \n",
       "1723554       LA       0        0  \n",
       "718174        LA       0        0  \n",
       "1663206       LA       0        0  \n",
       "1087892  Ventura       0        1  "
      ]
     },
     "execution_count": 9,
     "metadata": {},
     "output_type": "execute_result"
    }
   ],
   "source": [
    "train.head()"
   ]
  },
  {
   "cell_type": "code",
   "execution_count": 13,
   "id": "5fa8c6c8",
   "metadata": {},
   "outputs": [],
   "source": [
    "train = train[['area','propertyvalue']].copy()"
   ]
  },
  {
   "cell_type": "code",
   "execution_count": 14,
   "id": "ca1614a6",
   "metadata": {},
   "outputs": [],
   "source": [
    "from sklearn.linear_model import LinearRegression"
   ]
  },
  {
   "cell_type": "code",
   "execution_count": 15,
   "id": "1a39e63c",
   "metadata": {},
   "outputs": [],
   "source": [
    "model = LinearRegression().fit(train[['area']], train.propertyvalue)\n",
    "predictions = model.predict(train[['area']])"
   ]
  },
  {
   "cell_type": "code",
   "execution_count": 16,
   "id": "0cd2bcc0",
   "metadata": {},
   "outputs": [
    {
     "data": {
      "text/plain": [
       "array([580049.24806397, 584607.35349842, 507294.8728601 , ...,\n",
       "       379141.98545281, 302881.37529937, 331807.81363343])"
      ]
     },
     "execution_count": 16,
     "metadata": {},
     "output_type": "execute_result"
    }
   ],
   "source": [
    "predictions"
   ]
  },
  {
   "cell_type": "code",
   "execution_count": 17,
   "id": "3c265a3d",
   "metadata": {},
   "outputs": [],
   "source": [
    "train['yhat'] = predictions"
   ]
  },
  {
   "cell_type": "code",
   "execution_count": 18,
   "id": "d8fa833d",
   "metadata": {},
   "outputs": [
    {
     "data": {
      "text/html": [
       "<div>\n",
       "<style scoped>\n",
       "    .dataframe tbody tr th:only-of-type {\n",
       "        vertical-align: middle;\n",
       "    }\n",
       "\n",
       "    .dataframe tbody tr th {\n",
       "        vertical-align: top;\n",
       "    }\n",
       "\n",
       "    .dataframe thead th {\n",
       "        text-align: right;\n",
       "    }\n",
       "</style>\n",
       "<table border=\"1\" class=\"dataframe\">\n",
       "  <thead>\n",
       "    <tr style=\"text-align: right;\">\n",
       "      <th></th>\n",
       "      <th>area</th>\n",
       "      <th>propertyvalue</th>\n",
       "      <th>yhat</th>\n",
       "    </tr>\n",
       "  </thead>\n",
       "  <tbody>\n",
       "    <tr>\n",
       "      <th>1571799</th>\n",
       "      <td>2987</td>\n",
       "      <td>885000</td>\n",
       "      <td>580049.248064</td>\n",
       "    </tr>\n",
       "    <tr>\n",
       "      <th>1723554</th>\n",
       "      <td>3013</td>\n",
       "      <td>489511</td>\n",
       "      <td>584607.353498</td>\n",
       "    </tr>\n",
       "    <tr>\n",
       "      <th>718174</th>\n",
       "      <td>2572</td>\n",
       "      <td>390915</td>\n",
       "      <td>507294.872860</td>\n",
       "    </tr>\n",
       "    <tr>\n",
       "      <th>1663206</th>\n",
       "      <td>1589</td>\n",
       "      <td>321758</td>\n",
       "      <td>334963.425088</td>\n",
       "    </tr>\n",
       "    <tr>\n",
       "      <th>1087892</th>\n",
       "      <td>1727</td>\n",
       "      <td>231737</td>\n",
       "      <td>359156.446240</td>\n",
       "    </tr>\n",
       "  </tbody>\n",
       "</table>\n",
       "</div>"
      ],
      "text/plain": [
       "         area  propertyvalue           yhat\n",
       "1571799  2987         885000  580049.248064\n",
       "1723554  3013         489511  584607.353498\n",
       "718174   2572         390915  507294.872860\n",
       "1663206  1589         321758  334963.425088\n",
       "1087892  1727         231737  359156.446240"
      ]
     },
     "execution_count": 18,
     "metadata": {},
     "output_type": "execute_result"
    }
   ],
   "source": [
    "train.head()"
   ]
  },
  {
   "cell_type": "markdown",
   "id": "4b326f15",
   "metadata": {},
   "source": [
    "#### Plot the residuals for the linear regression model that you made."
   ]
  },
  {
   "cell_type": "code",
   "execution_count": 27,
   "id": "95e3d082",
   "metadata": {},
   "outputs": [],
   "source": [
    "train['residuals'] = train.yhat - train.propertyvalue"
   ]
  },
  {
   "cell_type": "code",
   "execution_count": 28,
   "id": "f24ad61b",
   "metadata": {},
   "outputs": [
    {
     "data": {
      "text/html": [
       "<div>\n",
       "<style scoped>\n",
       "    .dataframe tbody tr th:only-of-type {\n",
       "        vertical-align: middle;\n",
       "    }\n",
       "\n",
       "    .dataframe tbody tr th {\n",
       "        vertical-align: top;\n",
       "    }\n",
       "\n",
       "    .dataframe thead th {\n",
       "        text-align: right;\n",
       "    }\n",
       "</style>\n",
       "<table border=\"1\" class=\"dataframe\">\n",
       "  <thead>\n",
       "    <tr style=\"text-align: right;\">\n",
       "      <th></th>\n",
       "      <th>area</th>\n",
       "      <th>propertyvalue</th>\n",
       "      <th>yhat</th>\n",
       "      <th>residuals</th>\n",
       "    </tr>\n",
       "  </thead>\n",
       "  <tbody>\n",
       "    <tr>\n",
       "      <th>1571799</th>\n",
       "      <td>2987</td>\n",
       "      <td>885000</td>\n",
       "      <td>580049.248064</td>\n",
       "      <td>-304950.751936</td>\n",
       "    </tr>\n",
       "    <tr>\n",
       "      <th>1723554</th>\n",
       "      <td>3013</td>\n",
       "      <td>489511</td>\n",
       "      <td>584607.353498</td>\n",
       "      <td>95096.353498</td>\n",
       "    </tr>\n",
       "    <tr>\n",
       "      <th>718174</th>\n",
       "      <td>2572</td>\n",
       "      <td>390915</td>\n",
       "      <td>507294.872860</td>\n",
       "      <td>116379.872860</td>\n",
       "    </tr>\n",
       "    <tr>\n",
       "      <th>1663206</th>\n",
       "      <td>1589</td>\n",
       "      <td>321758</td>\n",
       "      <td>334963.425088</td>\n",
       "      <td>13205.425088</td>\n",
       "    </tr>\n",
       "    <tr>\n",
       "      <th>1087892</th>\n",
       "      <td>1727</td>\n",
       "      <td>231737</td>\n",
       "      <td>359156.446240</td>\n",
       "      <td>127419.446240</td>\n",
       "    </tr>\n",
       "  </tbody>\n",
       "</table>\n",
       "</div>"
      ],
      "text/plain": [
       "         area  propertyvalue           yhat      residuals\n",
       "1571799  2987         885000  580049.248064 -304950.751936\n",
       "1723554  3013         489511  584607.353498   95096.353498\n",
       "718174   2572         390915  507294.872860  116379.872860\n",
       "1663206  1589         321758  334963.425088   13205.425088\n",
       "1087892  1727         231737  359156.446240  127419.446240"
      ]
     },
     "execution_count": 28,
     "metadata": {},
     "output_type": "execute_result"
    }
   ],
   "source": [
    "train.head()"
   ]
  },
  {
   "cell_type": "code",
   "execution_count": 29,
   "id": "30fa5a33",
   "metadata": {},
   "outputs": [
    {
     "data": {
      "image/png": "[encoded data removed]",
      "text/plain": [
       "<Figure size 432x288 with 1 Axes>"
      ]
     },
     "metadata": {
      "needs_background": "light"
     },
     "output_type": "display_data"
    }
   ],
   "source": [
    "sns.scatterplot(data=train, y='residuals', x='propertyvalue')\n",
    "plt.title('how do my residuals with my property value')\n",
    "plt.show()"
   ]
  },
  {
   "cell_type": "markdown",
   "id": "81cb2b35",
   "metadata": {},
   "source": [
    "#### Calculate the sum of squared errors, explained sum of squares, total sum of squares, mean squared error, and root mean squared error for your model."
   ]
  },
  {
   "cell_type": "code",
   "execution_count": 31,
   "id": "64101970",
   "metadata": {},
   "outputs": [
    {
     "data": {
      "text/html": [
       "<div>\n",
       "<style scoped>\n",
       "    .dataframe tbody tr th:only-of-type {\n",
       "        vertical-align: middle;\n",
       "    }\n",
       "\n",
       "    .dataframe tbody tr th {\n",
       "        vertical-align: top;\n",
       "    }\n",
       "\n",
       "    .dataframe thead th {\n",
       "        text-align: right;\n",
       "    }\n",
       "</style>\n",
       "<table border=\"1\" class=\"dataframe\">\n",
       "  <thead>\n",
       "    <tr style=\"text-align: right;\">\n",
       "      <th></th>\n",
       "      <th>area</th>\n",
       "      <th>propertyvalue</th>\n",
       "      <th>yhat</th>\n",
       "      <th>residuals</th>\n",
       "    </tr>\n",
       "  </thead>\n",
       "  <tbody>\n",
       "    <tr>\n",
       "      <th>1571799</th>\n",
       "      <td>2987</td>\n",
       "      <td>885000</td>\n",
       "      <td>580049.248064</td>\n",
       "      <td>-304950.751936</td>\n",
       "    </tr>\n",
       "    <tr>\n",
       "      <th>1723554</th>\n",
       "      <td>3013</td>\n",
       "      <td>489511</td>\n",
       "      <td>584607.353498</td>\n",
       "      <td>95096.353498</td>\n",
       "    </tr>\n",
       "    <tr>\n",
       "      <th>718174</th>\n",
       "      <td>2572</td>\n",
       "      <td>390915</td>\n",
       "      <td>507294.872860</td>\n",
       "      <td>116379.872860</td>\n",
       "    </tr>\n",
       "    <tr>\n",
       "      <th>1663206</th>\n",
       "      <td>1589</td>\n",
       "      <td>321758</td>\n",
       "      <td>334963.425088</td>\n",
       "      <td>13205.425088</td>\n",
       "    </tr>\n",
       "    <tr>\n",
       "      <th>1087892</th>\n",
       "      <td>1727</td>\n",
       "      <td>231737</td>\n",
       "      <td>359156.446240</td>\n",
       "      <td>127419.446240</td>\n",
       "    </tr>\n",
       "  </tbody>\n",
       "</table>\n",
       "</div>"
      ],
      "text/plain": [
       "         area  propertyvalue           yhat      residuals\n",
       "1571799  2987         885000  580049.248064 -304950.751936\n",
       "1723554  3013         489511  584607.353498   95096.353498\n",
       "718174   2572         390915  507294.872860  116379.872860\n",
       "1663206  1589         321758  334963.425088   13205.425088\n",
       "1087892  1727         231737  359156.446240  127419.446240"
      ]
     },
     "execution_count": 31,
     "metadata": {},
     "output_type": "execute_result"
    }
   ],
   "source": [
    "train.head()"
   ]
  },
  {
   "cell_type": "code",
   "execution_count": 30,
   "id": "77dfb3a2",
   "metadata": {},
   "outputs": [],
   "source": [
    "from sklearn.metrics import mean_squared_error"
   ]
  },
  {
   "cell_type": "code",
   "execution_count": 52,
   "id": "b83ec60e",
   "metadata": {},
   "outputs": [
    {
     "data": {
      "text/plain": [
       "42992181337.3815"
      ]
     },
     "execution_count": 52,
     "metadata": {},
     "output_type": "execute_result"
    }
   ],
   "source": [
    "MSE = mean_squared_error(train.propertyvalue, train.yhat)\n",
    "MSE"
   ]
  },
  {
   "cell_type": "code",
   "execution_count": 37,
   "id": "bb498f77",
   "metadata": {},
   "outputs": [
    {
     "data": {
      "text/plain": [
       "5.244624799783437e+16"
      ]
     },
     "execution_count": 37,
     "metadata": {},
     "output_type": "execute_result"
    }
   ],
   "source": [
    "SSE = MSE * len(train)\n",
    "SSE"
   ]
  },
  {
   "cell_type": "code",
   "execution_count": 39,
   "id": "960e8b41",
   "metadata": {},
   "outputs": [
    {
     "data": {
      "text/plain": [
       "207345.56020658242"
      ]
     },
     "execution_count": 39,
     "metadata": {},
     "output_type": "execute_result"
    }
   ],
   "source": [
    "RMSE = MSE ** .5\n",
    "RMSE"
   ]
  },
  {
   "cell_type": "code",
   "execution_count": 43,
   "id": "27b58535",
   "metadata": {},
   "outputs": [
    {
     "data": {
      "text/plain": [
       "1.9763181828794024e+16"
      ]
     },
     "execution_count": 43,
     "metadata": {},
     "output_type": "execute_result"
    }
   ],
   "source": [
    "ESS = sum((train.yhat - train.propertyvalue.mean())**2)\n",
    "ESS"
   ]
  },
  {
   "cell_type": "code",
   "execution_count": 44,
   "id": "00d860ec",
   "metadata": {},
   "outputs": [
    {
     "data": {
      "text/plain": [
       "7.220942982662838e+16"
      ]
     },
     "execution_count": 44,
     "metadata": {},
     "output_type": "execute_result"
    }
   ],
   "source": [
    "TSS = ESS + SSE\n",
    "TSS"
   ]
  },
  {
   "cell_type": "markdown",
   "id": "3a9fc6e5",
   "metadata": {},
   "source": [
    "#### Calculate the sum of squared errors, mean squared error, and root mean squared error for the baseline model (i.e. a model that always predicts the average taxvaluedollarcnt amount)."
   ]
  },
  {
   "cell_type": "code",
   "execution_count": 47,
   "id": "6e937460",
   "metadata": {},
   "outputs": [],
   "source": [
    "train['baseline'] = train.propertyvalue.mean()"
   ]
  },
  {
   "cell_type": "code",
   "execution_count": 48,
   "id": "c687ef17",
   "metadata": {},
   "outputs": [
    {
     "data": {
      "text/html": [
       "<div>\n",
       "<style scoped>\n",
       "    .dataframe tbody tr th:only-of-type {\n",
       "        vertical-align: middle;\n",
       "    }\n",
       "\n",
       "    .dataframe tbody tr th {\n",
       "        vertical-align: top;\n",
       "    }\n",
       "\n",
       "    .dataframe thead th {\n",
       "        text-align: right;\n",
       "    }\n",
       "</style>\n",
       "<table border=\"1\" class=\"dataframe\">\n",
       "  <thead>\n",
       "    <tr style=\"text-align: right;\">\n",
       "      <th></th>\n",
       "      <th>area</th>\n",
       "      <th>propertyvalue</th>\n",
       "      <th>yhat</th>\n",
       "      <th>residuals</th>\n",
       "      <th>baseline</th>\n",
       "    </tr>\n",
       "  </thead>\n",
       "  <tbody>\n",
       "    <tr>\n",
       "      <th>1571799</th>\n",
       "      <td>2987</td>\n",
       "      <td>885000</td>\n",
       "      <td>580049.248064</td>\n",
       "      <td>-304950.751936</td>\n",
       "      <td>363532.067232</td>\n",
       "    </tr>\n",
       "    <tr>\n",
       "      <th>1723554</th>\n",
       "      <td>3013</td>\n",
       "      <td>489511</td>\n",
       "      <td>584607.353498</td>\n",
       "      <td>95096.353498</td>\n",
       "      <td>363532.067232</td>\n",
       "    </tr>\n",
       "    <tr>\n",
       "      <th>718174</th>\n",
       "      <td>2572</td>\n",
       "      <td>390915</td>\n",
       "      <td>507294.872860</td>\n",
       "      <td>116379.872860</td>\n",
       "      <td>363532.067232</td>\n",
       "    </tr>\n",
       "    <tr>\n",
       "      <th>1663206</th>\n",
       "      <td>1589</td>\n",
       "      <td>321758</td>\n",
       "      <td>334963.425088</td>\n",
       "      <td>13205.425088</td>\n",
       "      <td>363532.067232</td>\n",
       "    </tr>\n",
       "    <tr>\n",
       "      <th>1087892</th>\n",
       "      <td>1727</td>\n",
       "      <td>231737</td>\n",
       "      <td>359156.446240</td>\n",
       "      <td>127419.446240</td>\n",
       "      <td>363532.067232</td>\n",
       "    </tr>\n",
       "  </tbody>\n",
       "</table>\n",
       "</div>"
      ],
      "text/plain": [
       "         area  propertyvalue           yhat      residuals       baseline\n",
       "1571799  2987         885000  580049.248064 -304950.751936  363532.067232\n",
       "1723554  3013         489511  584607.353498   95096.353498  363532.067232\n",
       "718174   2572         390915  507294.872860  116379.872860  363532.067232\n",
       "1663206  1589         321758  334963.425088   13205.425088  363532.067232\n",
       "1087892  1727         231737  359156.446240  127419.446240  363532.067232"
      ]
     },
     "execution_count": 48,
     "metadata": {},
     "output_type": "execute_result"
    }
   ],
   "source": [
    "train.head()"
   ]
  },
  {
   "cell_type": "code",
   "execution_count": 53,
   "id": "bd9ff7e5",
   "metadata": {},
   "outputs": [
    {
     "data": {
      "text/plain": [
       "59192812067.367615"
      ]
     },
     "execution_count": 53,
     "metadata": {},
     "output_type": "execute_result"
    }
   ],
   "source": [
    "MSE_baseline = mean_squared_error(train.propertyvalue, train.baseline)\n",
    "MSE_baseline"
   ]
  },
  {
   "cell_type": "code",
   "execution_count": 55,
   "id": "b2fdc1ba",
   "metadata": {},
   "outputs": [
    {
     "data": {
      "text/plain": [
       "7.220942982660589e+16"
      ]
     },
     "execution_count": 55,
     "metadata": {},
     "output_type": "execute_result"
    }
   ],
   "source": [
    "SSE_baseline = MSE_baseline * len(train)\n",
    "SSE_baseline"
   ]
  },
  {
   "cell_type": "code",
   "execution_count": 57,
   "id": "4a2065c8",
   "metadata": {},
   "outputs": [
    {
     "data": {
      "text/plain": [
       "243295.7296529629"
      ]
     },
     "execution_count": 57,
     "metadata": {},
     "output_type": "execute_result"
    }
   ],
   "source": [
    "RMSE_baseline = MSE_baseline ** .5\n",
    "RMSE_baseline"
   ]
  },
  {
   "cell_type": "markdown",
   "id": "ddf961bc",
   "metadata": {},
   "source": [
    "#### Write python code that compares the sum of squared errors for your model against the sum of squared errors for the baseline model and outputs whether or not your model performs better than the baseline model."
   ]
  },
  {
   "cell_type": "code",
   "execution_count": 58,
   "id": "7cdbdee6",
   "metadata": {},
   "outputs": [
    {
     "data": {
      "text/plain": [
       "5.244624799783437e+16"
      ]
     },
     "execution_count": 58,
     "metadata": {},
     "output_type": "execute_result"
    }
   ],
   "source": [
    "SSE"
   ]
  },
  {
   "cell_type": "code",
   "execution_count": 59,
   "id": "0b5b558b",
   "metadata": {},
   "outputs": [
    {
     "data": {
      "text/plain": [
       "7.220942982660589e+16"
      ]
     },
     "execution_count": 59,
     "metadata": {},
     "output_type": "execute_result"
    }
   ],
   "source": [
    "SSE_baseline"
   ]
  },
  {
   "cell_type": "code",
   "execution_count": 63,
   "id": "e317dbd1",
   "metadata": {},
   "outputs": [
    {
     "name": "stdout",
     "output_type": "stream",
     "text": [
      "my model is better than baseline!\n"
     ]
    }
   ],
   "source": [
    "if SSE < SSE_baseline:\n",
    "    print('my model is better than baseline!')\n",
    "else:\n",
    "    print('my model is not better than baseline!')"
   ]
  },
  {
   "cell_type": "markdown",
   "id": "b0b9963d",
   "metadata": {},
   "source": [
    "#### What is the amount of variance explained in your model?"
   ]
  },
  {
   "cell_type": "code",
   "execution_count": 68,
   "id": "d0eb8872",
   "metadata": {},
   "outputs": [
    {
     "data": {
      "text/plain": [
       "0.27369253401175636"
      ]
     },
     "execution_count": 68,
     "metadata": {},
     "output_type": "execute_result"
    }
   ],
   "source": [
    "ESS/TSS"
   ]
  },
  {
   "cell_type": "code",
   "execution_count": 64,
   "id": "0f9543f4",
   "metadata": {},
   "outputs": [],
   "source": [
    "from sklearn.metrics import r2_score"
   ]
  },
  {
   "cell_type": "code",
   "execution_count": 65,
   "id": "5e199c56",
   "metadata": {},
   "outputs": [
    {
     "data": {
      "text/plain": [
       "0.27369253401153004"
      ]
     },
     "execution_count": 65,
     "metadata": {},
     "output_type": "execute_result"
    }
   ],
   "source": [
    "r2_score(train.propertyvalue, train.yhat)"
   ]
  },
  {
   "cell_type": "code",
   "execution_count": 66,
   "id": "d79fb207",
   "metadata": {},
   "outputs": [
    {
     "data": {
      "text/html": [
       "<div>\n",
       "<style scoped>\n",
       "    .dataframe tbody tr th:only-of-type {\n",
       "        vertical-align: middle;\n",
       "    }\n",
       "\n",
       "    .dataframe tbody tr th {\n",
       "        vertical-align: top;\n",
       "    }\n",
       "\n",
       "    .dataframe thead th {\n",
       "        text-align: right;\n",
       "    }\n",
       "</style>\n",
       "<table border=\"1\" class=\"dataframe\">\n",
       "  <thead>\n",
       "    <tr style=\"text-align: right;\">\n",
       "      <th></th>\n",
       "      <th>area</th>\n",
       "      <th>propertyvalue</th>\n",
       "      <th>yhat</th>\n",
       "      <th>residuals</th>\n",
       "      <th>baseline</th>\n",
       "    </tr>\n",
       "  </thead>\n",
       "  <tbody>\n",
       "    <tr>\n",
       "      <th>1571799</th>\n",
       "      <td>2987</td>\n",
       "      <td>885000</td>\n",
       "      <td>580049.248064</td>\n",
       "      <td>-304950.751936</td>\n",
       "      <td>363532.067232</td>\n",
       "    </tr>\n",
       "    <tr>\n",
       "      <th>1723554</th>\n",
       "      <td>3013</td>\n",
       "      <td>489511</td>\n",
       "      <td>584607.353498</td>\n",
       "      <td>95096.353498</td>\n",
       "      <td>363532.067232</td>\n",
       "    </tr>\n",
       "    <tr>\n",
       "      <th>718174</th>\n",
       "      <td>2572</td>\n",
       "      <td>390915</td>\n",
       "      <td>507294.872860</td>\n",
       "      <td>116379.872860</td>\n",
       "      <td>363532.067232</td>\n",
       "    </tr>\n",
       "    <tr>\n",
       "      <th>1663206</th>\n",
       "      <td>1589</td>\n",
       "      <td>321758</td>\n",
       "      <td>334963.425088</td>\n",
       "      <td>13205.425088</td>\n",
       "      <td>363532.067232</td>\n",
       "    </tr>\n",
       "    <tr>\n",
       "      <th>1087892</th>\n",
       "      <td>1727</td>\n",
       "      <td>231737</td>\n",
       "      <td>359156.446240</td>\n",
       "      <td>127419.446240</td>\n",
       "      <td>363532.067232</td>\n",
       "    </tr>\n",
       "  </tbody>\n",
       "</table>\n",
       "</div>"
      ],
      "text/plain": [
       "         area  propertyvalue           yhat      residuals       baseline\n",
       "1571799  2987         885000  580049.248064 -304950.751936  363532.067232\n",
       "1723554  3013         489511  584607.353498   95096.353498  363532.067232\n",
       "718174   2572         390915  507294.872860  116379.872860  363532.067232\n",
       "1663206  1589         321758  334963.425088   13205.425088  363532.067232\n",
       "1087892  1727         231737  359156.446240  127419.446240  363532.067232"
      ]
     },
     "execution_count": 66,
     "metadata": {},
     "output_type": "execute_result"
    }
   ],
   "source": [
    "train.head()"
   ]
  },
  {
   "cell_type": "markdown",
   "id": "6dc1c7d0",
   "metadata": {},
   "source": [
    "#### Is your model better than the baseline model?"
   ]
  },
  {
   "cell_type": "markdown",
   "id": "8e62364e",
   "metadata": {},
   "source": [
    "A: my model is better than baseline, however, it isn't that great"
   ]
  },
  {
   "cell_type": "markdown",
   "id": "a177fa9d",
   "metadata": {},
   "source": [
    "#### Create a file named evaluate.py that contains the following functions.\n",
    "- plot_residuals(y, yhat): creates a residual plot\n",
    "- regression_errors(y, yhat): returns the following values:\n",
    "    - sum of squared errors (SSE)\n",
    "    - explained sum of squares (ESS)\n",
    "    - total sum of squares (TSS)\n",
    "    - mean squared error (MSE)\n",
    "    - root mean squared error (RMSE)\n",
    "- baseline_mean_errors(y): computes the SSE, MSE, and RMSE for the baseline model\n",
    "- better_than_baseline(y, yhat): returns true if your model performs better than the baseline, otherwise false"
   ]
  },
  {
   "cell_type": "code",
   "execution_count": 72,
   "id": "09e6e8fe",
   "metadata": {},
   "outputs": [],
   "source": [
    "def plot_residuals(y, yhat):\n",
    "    residuals = yhat - y\n",
    "    \n",
    "    plt.scatter(x=y, y=residuals)\n",
    "    plt.xlabel('Home Value')\n",
    "    plt.ylabel('Residuals')\n",
    "    plt.title('Residual vs Home Value Plot')\n",
    "    plt.show()"
   ]
  },
  {
   "cell_type": "code",
   "execution_count": 73,
   "id": "0be90aaa",
   "metadata": {},
   "outputs": [
    {
     "data": {
      "image/png": "[encoded data removed]",
      "text/plain": [
       "<Figure size 432x288 with 1 Axes>"
      ]
     },
     "metadata": {
      "needs_background": "light"
     },
     "output_type": "display_data"
    }
   ],
   "source": [
    "plot_residuals(train.propertyvalue, train.yhat)"
   ]
  },
  {
   "cell_type": "code",
   "execution_count": 74,
   "id": "d1707810",
   "metadata": {},
   "outputs": [],
   "source": [
    "def regression_errors(y, yhat):\n",
    "    MSE = mean_squared_error(y, yhat)\n",
    "    SSE = MSE * len(y)\n",
    "    RMSE = MSE**.5\n",
    "    \n",
    "    ESS = ((yhat - y.mean())**2).sum()\n",
    "    TSS = ESS + SSE\n",
    "    \n",
    "    return SSE, ESS, TSS, MSE, RMSE"
   ]
  },
  {
   "cell_type": "code",
   "execution_count": 75,
   "id": "d6596022",
   "metadata": {},
   "outputs": [
    {
     "data": {
      "text/plain": [
       "(5.244624799783437e+16,\n",
       " 1.9763181828795228e+16,\n",
       " 7.22094298266296e+16,\n",
       " 42992181337.3815,\n",
       " 207345.56020658242)"
      ]
     },
     "execution_count": 75,
     "metadata": {},
     "output_type": "execute_result"
    }
   ],
   "source": [
    "regression_errors(train.propertyvalue, train.yhat)"
   ]
  },
  {
   "cell_type": "code",
   "execution_count": 76,
   "id": "ae67bc4f",
   "metadata": {},
   "outputs": [],
   "source": [
    "def baseline_mean_errors(y):\n",
    "    baseline = np.repeat(y.mean(), len(y))\n",
    "    \n",
    "    MSE = mean_squared_error(y, baseline)\n",
    "    SSE = MSE * len(y)\n",
    "    RMSE = MSE**.5\n",
    "    \n",
    "    return SSE, MSE, RMSE"
   ]
  },
  {
   "cell_type": "code",
   "execution_count": 78,
   "id": "e0064b2e",
   "metadata": {},
   "outputs": [
    {
     "data": {
      "text/plain": [
       "(7.220942982660589e+16, 59192812067.367615, 243295.7296529629)"
      ]
     },
     "execution_count": 78,
     "metadata": {},
     "output_type": "execute_result"
    }
   ],
   "source": [
    "baseline_mean_errors(train.propertyvalue)"
   ]
  },
  {
   "cell_type": "code",
   "execution_count": null,
   "id": "8c581ca6",
   "metadata": {},
   "outputs": [],
   "source": []
  }
 ],
 "metadata": {
  "kernelspec": {
   "display_name": "Python 3 (ipykernel)",
   "language": "python",
   "name": "python3"
  },
  "language_info": {
   "codemirror_mode": {
    "name": "ipython",
    "version": 3
   },
   "file_extension": ".py",
   "mimetype": "text/x-python",
   "name": "python",
   "nbconvert_exporter": "python",
   "pygments_lexer": "ipython3",
   "version": "3.9.12"
  }
 },
 "nbformat": 4,
 "nbformat_minor": 5
}
